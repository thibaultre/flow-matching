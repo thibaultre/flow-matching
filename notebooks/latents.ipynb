{
 "cells": [
  {
   "cell_type": "markdown",
   "id": "89e11648",
   "metadata": {},
   "source": [
    "todo"
   ]
  }
 ],
 "metadata": {
  "language_info": {
   "name": "python"
  }
 },
 "nbformat": 4,
 "nbformat_minor": 5
}
